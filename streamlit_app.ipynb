{
  "cells": [
    {
      "cell_type": "code",
      "execution_count": null,
      "metadata": {
        "colab": {
          "base_uri": "https://localhost:8080/"
        },
        "id": "eLa7U3LQTq2N",
        "outputId": "a28773dc-ec83-4453-f0c6-2b867b86a455"
      },
      "outputs": [
        {
          "name": "stdout",
          "output_type": "stream",
          "text": [
            "\u001b[K     |████████████████████████████████| 9.1 MB 21.3 MB/s \n",
            "\u001b[K     |████████████████████████████████| 178 kB 58.6 MB/s \n",
            "\u001b[K     |████████████████████████████████| 180 kB 55.6 MB/s \n",
            "\u001b[K     |████████████████████████████████| 76 kB 4.9 MB/s \n",
            "\u001b[K     |████████████████████████████████| 4.3 MB 42.1 MB/s \n",
            "\u001b[K     |████████████████████████████████| 111 kB 61.4 MB/s \n",
            "\u001b[K     |████████████████████████████████| 63 kB 1.6 MB/s \n",
            "\u001b[K     |████████████████████████████████| 126 kB 57.7 MB/s \n",
            "\u001b[K     |████████████████████████████████| 791 kB 50.1 MB/s \n",
            "\u001b[K     |████████████████████████████████| 374 kB 44.8 MB/s \n",
            "\u001b[?25h  Building wheel for pympler (setup.py) ... \u001b[?25l\u001b[?25hdone\n",
            "  Building wheel for blinker (setup.py) ... \u001b[?25l\u001b[?25hdone\n",
            "\u001b[31mERROR: pip's dependency resolver does not currently take into account all the packages that are installed. This behaviour is the source of the following dependency conflicts.\n",
            "jupyter-console 5.2.0 requires prompt-toolkit<2.0.0,>=1.0.0, but you have prompt-toolkit 3.0.23 which is incompatible.\n",
            "google-colab 1.0.0 requires ipykernel~=4.10, but you have ipykernel 6.6.0 which is incompatible.\n",
            "google-colab 1.0.0 requires ipython~=5.5.0, but you have ipython 7.30.1 which is incompatible.\u001b[0m\n"
          ]
        }
      ],
      "source": [
        "!pip install -qq streamlit"
      ]
    },
    {
      "cell_type": "code",
      "execution_count": null,
      "metadata": {
        "id": "260DpfCkWss4"
      },
      "outputs": [],
      "source": [
        "!cp -r drive/MyDrive/AutoEncode_colorise_images ."
      ]
    },
    {
      "cell_type": "code",
      "execution_count": null,
      "metadata": {
        "colab": {
          "base_uri": "https://localhost:8080/"
        },
        "id": "Pr74SqKTXM21",
        "outputId": "ec02b28d-e657-480d-a77d-cd81bdfd8aef"
      },
      "outputs": [
        {
          "name": "stdout",
          "output_type": "stream",
          "text": [
            "--2021-12-06 06:08:03--  https://bin.equinox.io/c/4VmDzA7iaHb/ngrok-stable-linux-amd64.zip\n",
            "Resolving bin.equinox.io (bin.equinox.io)... 54.237.133.81, 18.205.222.128, 54.161.241.46, ...\n",
            "Connecting to bin.equinox.io (bin.equinox.io)|54.237.133.81|:443... connected.\n",
            "HTTP request sent, awaiting response... 200 OK\n",
            "Length: 13832437 (13M) [application/octet-stream]\n",
            "Saving to: ‘ngrok-stable-linux-amd64.zip’\n",
            "\n",
            "ngrok-stable-linux- 100%[===================>]  13.19M  83.5MB/s    in 0.2s    \n",
            "\n",
            "2021-12-06 06:08:04 (83.5 MB/s) - ‘ngrok-stable-linux-amd64.zip’ saved [13832437/13832437]\n",
            "\n",
            "Archive:  ngrok-stable-linux-amd64.zip\n",
            "  inflating: ngrok                   \n"
          ]
        }
      ],
      "source": [
        "!wget https://bin.equinox.io/c/4VmDzA7iaHb/ngrok-stable-linux-amd64.zip\n",
        "!unzip ngrok-stable-linux-amd64.zip"
      ]
    },
    {
      "cell_type": "code",
      "execution_count": null,
      "metadata": {
        "colab": {
          "base_uri": "https://localhost:8080/"
        },
        "id": "GXejpU_ZoASE",
        "outputId": "bca46e8d-cf5d-4165-d75b-9ecc59eaa864"
      },
      "outputs": [
        {
          "name": "stdout",
          "output_type": "stream",
          "text": [
            "Overwriting app.py\n"
          ]
        }
      ],
      "source": [
        "%%writefile app.py\n",
        "import streamlit as st\n",
        "import pandas as pd\n",
        "import numpy as np\n",
        "import tensorflow as tf\n",
        "import cv2\n",
        "from PIL import Image\n",
        "\n",
        "img_size = 160\n",
        "\n",
        "st.title('Tina\\'s Image Colorizer')\n",
        "\n",
        "image = st.file_uploader(\"Add an image to colorize\", type='jpg')\n",
        "\n",
        "st.write('Or choose an example')\n",
        "\n",
        "btn1 = st.button('Example 1')\n",
        "btn2 = st.button('Example 2')\n",
        "\n",
        "if btn1:\n",
        "  image = 'drive/MyDrive/testData/paris_102.jpg'\n",
        "elif btn2:\n",
        "  image = 'drive/MyDrive/testData/paris_168.jpg'\n",
        "\n",
        "image\n",
        "\n",
        "@st.cache(allow_output_mutation=True)\n",
        "def get_model():\n",
        "  return tf.keras.models.load_model('AutoEncode_colorise_images')\n",
        "\n",
        "model = get_model()\n",
        "\n",
        "if image:\n",
        "  col1, col2 = st.columns(2)\n",
        "\n",
        "  original = Image.open(image)\n",
        "  col1.header(\"Input\")\n",
        "  col1.image(original, use_column_width=True)\n",
        "\n",
        "  to_convert = np.array(original)\n",
        "  to_convert = cv2.cvtColor(to_convert, cv2.COLOR_BGR2RGB)\n",
        "  to_convert = cv2.resize(to_convert, (img_size, img_size))\n",
        "  to_convert = to_convert.astype('float32') / 255.0\n",
        "  colorized = np.clip(model.predict(to_convert.reshape(1,img_size, img_size,3)),0.0,1.0).reshape(img_size, img_size,3)\n",
        "  colorized = cv2.resize(colorized, (original.width, original.height))\n",
        "  col2.header(\"Colorized\")\n",
        "  col2.image(colorized, use_column_width=True)\n"
      ]
    },
    {
      "cell_type": "code",
      "execution_count": null,
      "metadata": {
        "id": "DH-FiDmMip9A"
      },
      "outputs": [],
      "source": [
        "get_ipython().system_raw('./ngrok http 8501 &')"
      ]
    },
    {
      "cell_type": "code",
      "execution_count": null,
      "metadata": {
        "colab": {
          "base_uri": "https://localhost:8080/"
        },
        "id": "EjjzbDAQjRc5",
        "outputId": "3ca5f0c3-b82a-45a3-836d-f07f82cd8cb0"
      },
      "outputs": [
        {
          "name": "stdout",
          "output_type": "stream",
          "text": [
            "Go to this URL after starting streamlit: https://4f2d-35-199-51-153.ngrok.io\n"
          ]
        }
      ],
      "source": [
        "!curl -s http://localhost:4040/api/tunnels | python3 -c \\\n",
        "    'import sys, json; print(\"Go to this URL after starting streamlit: \" + json.load(sys.stdin)[\"tunnels\"][0][\"public_url\"])'"
      ]
    },
    {
      "cell_type": "code",
      "execution_count": null,
      "metadata": {
        "colab": {
          "background_save": true,
          "base_uri": "https://localhost:8080/"
        },
        "id": "pLaV2EhrjiTW",
        "outputId": "7da549fd-eedf-4974-dd98-75c4203fb5e9"
      },
      "outputs": [
        {
          "name": "stdout",
          "output_type": "stream",
          "text": [
            "\u001b[0m\n",
            "\u001b[34m\u001b[1m  You can now view your Streamlit app in your browser.\u001b[0m\n",
            "\u001b[0m\n",
            "\u001b[34m  Network URL: \u001b[0m\u001b[1mhttp://172.28.0.2:8501\u001b[0m\n",
            "\u001b[34m  External URL: \u001b[0m\u001b[1mhttp://35.199.51.153:8501\u001b[0m\n",
            "\u001b[0m\n",
            "2021-12-06 08:40:42.819519: E tensorflow/stream_executor/cuda/cuda_driver.cc:271] failed call to cuInit: CUDA_ERROR_NO_DEVICE: no CUDA-capable device is detected\n"
          ]
        }
      ],
      "source": [
        "# Ignore the links from this and click the one above.\n",
        "!streamlit run app.py"
      ]
    }
  ],
  "metadata": {
    "colab": {
      "collapsed_sections": [],
      "name": "streamlit_app.ipynb",
      "provenance": []
    },
    "kernelspec": {
      "display_name": "Python 3",
      "name": "python3"
    },
    "language_info": {
      "name": "python"
    }
  },
  "nbformat": 4,
  "nbformat_minor": 0
}